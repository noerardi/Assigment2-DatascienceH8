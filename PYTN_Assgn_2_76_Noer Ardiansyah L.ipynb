{
 "cells": [
  {
   "cell_type": "markdown",
   "metadata": {},
   "source": [
    "<img src = \"https://global-uploads.webflow.com/5f0d53c042a9ed6288de7f8d/5f6337ae2cfaa10946ceeb06_Hacktiv8%20logo%20horizontal%2001%20black-p-500.png\" width = 400>\n",
    "<h1 align=center><font size = 5>Hacktiv8 PTP Introduction to Data Science Projects 2 // Statistical Treatment for Datasets</font></h1>"
   ]
  },
  {
   "cell_type": "markdown",
   "metadata": {},
   "source": [
    "Title: Assigment 2\\\n",
    "Last Updated: Maret 16, 2022\\\n",
    "Author: Noer Ardiansyah Laksana"
   ]
  },
  {
   "cell_type": "markdown",
   "metadata": {},
   "source": [
    "# 1. Data Preparation\n",
    "\n",
    "Langkah pertama yang harus dilakukana dalah Data Preparation atau mempersipakan data, agar data dapat dianalisis dengan baik dan benar."
   ]
  },
  {
   "cell_type": "markdown",
   "metadata": {},
   "source": [
    "##### --- Impor seluruh package yang kemungkinan akan digunakan pada project ini sedari awal ---"
   ]
  },
  {
   "cell_type": "code",
   "execution_count": 60,
   "metadata": {},
   "outputs": [],
   "source": [
    "import seaborn as sns\n",
    "import matplotlib.pyplot as plt\n",
    "import pandas as pd\n",
    "import numpy as np\n",
    "import matplotlib as mat\n",
    "from scipy.stats import norm\n",
    "from scipy.stats import f_oneway"
   ]
  },
  {
   "cell_type": "markdown",
   "metadata": {},
   "source": [
    "##### --- Load data set yang akan digunakan dalam project ini ---"
   ]
  },
  {
   "cell_type": "code",
   "execution_count": 2,
   "metadata": {},
   "outputs": [
    {
     "name": "stdout",
     "output_type": "stream",
     "text": [
      "Mantap, berhasil kebaca!\n"
     ]
    }
   ],
   "source": [
    "df = pd.read_csv('nyc-rolling-sales.csv')\n",
    "print ('Mantap, berhasil kebaca!')"
   ]
  },
  {
   "cell_type": "markdown",
   "metadata": {},
   "source": [
    "--- Melihat bentuk data yang ada dalam data set, dengan melihat 5 kolom teratas dan 5 kolom terbawah ---"
   ]
  },
  {
   "cell_type": "code",
   "execution_count": 3,
   "metadata": {},
   "outputs": [
    {
     "data": {
      "text/html": [
       "<div>\n",
       "<style scoped>\n",
       "    .dataframe tbody tr th:only-of-type {\n",
       "        vertical-align: middle;\n",
       "    }\n",
       "\n",
       "    .dataframe tbody tr th {\n",
       "        vertical-align: top;\n",
       "    }\n",
       "\n",
       "    .dataframe thead th {\n",
       "        text-align: right;\n",
       "    }\n",
       "</style>\n",
       "<table border=\"1\" class=\"dataframe\">\n",
       "  <thead>\n",
       "    <tr style=\"text-align: right;\">\n",
       "      <th></th>\n",
       "      <th>Unnamed: 0</th>\n",
       "      <th>BOROUGH</th>\n",
       "      <th>NEIGHBORHOOD</th>\n",
       "      <th>BUILDING CLASS CATEGORY</th>\n",
       "      <th>TAX CLASS AT PRESENT</th>\n",
       "      <th>BLOCK</th>\n",
       "      <th>LOT</th>\n",
       "      <th>EASE-MENT</th>\n",
       "      <th>BUILDING CLASS AT PRESENT</th>\n",
       "      <th>ADDRESS</th>\n",
       "      <th>...</th>\n",
       "      <th>RESIDENTIAL UNITS</th>\n",
       "      <th>COMMERCIAL UNITS</th>\n",
       "      <th>TOTAL UNITS</th>\n",
       "      <th>LAND SQUARE FEET</th>\n",
       "      <th>GROSS SQUARE FEET</th>\n",
       "      <th>YEAR BUILT</th>\n",
       "      <th>TAX CLASS AT TIME OF SALE</th>\n",
       "      <th>BUILDING CLASS AT TIME OF SALE</th>\n",
       "      <th>SALE PRICE</th>\n",
       "      <th>SALE DATE</th>\n",
       "    </tr>\n",
       "  </thead>\n",
       "  <tbody>\n",
       "    <tr>\n",
       "      <th>0</th>\n",
       "      <td>4</td>\n",
       "      <td>1</td>\n",
       "      <td>ALPHABET CITY</td>\n",
       "      <td>07 RENTALS - WALKUP APARTMENTS</td>\n",
       "      <td>2A</td>\n",
       "      <td>392</td>\n",
       "      <td>6</td>\n",
       "      <td></td>\n",
       "      <td>C2</td>\n",
       "      <td>153 AVENUE B</td>\n",
       "      <td>...</td>\n",
       "      <td>5</td>\n",
       "      <td>0</td>\n",
       "      <td>5</td>\n",
       "      <td>1633</td>\n",
       "      <td>6440</td>\n",
       "      <td>1900</td>\n",
       "      <td>2</td>\n",
       "      <td>C2</td>\n",
       "      <td>6625000</td>\n",
       "      <td>2017-07-19 00:00:00</td>\n",
       "    </tr>\n",
       "    <tr>\n",
       "      <th>1</th>\n",
       "      <td>5</td>\n",
       "      <td>1</td>\n",
       "      <td>ALPHABET CITY</td>\n",
       "      <td>07 RENTALS - WALKUP APARTMENTS</td>\n",
       "      <td>2</td>\n",
       "      <td>399</td>\n",
       "      <td>26</td>\n",
       "      <td></td>\n",
       "      <td>C7</td>\n",
       "      <td>234 EAST 4TH   STREET</td>\n",
       "      <td>...</td>\n",
       "      <td>28</td>\n",
       "      <td>3</td>\n",
       "      <td>31</td>\n",
       "      <td>4616</td>\n",
       "      <td>18690</td>\n",
       "      <td>1900</td>\n",
       "      <td>2</td>\n",
       "      <td>C7</td>\n",
       "      <td>-</td>\n",
       "      <td>2016-12-14 00:00:00</td>\n",
       "    </tr>\n",
       "    <tr>\n",
       "      <th>2</th>\n",
       "      <td>6</td>\n",
       "      <td>1</td>\n",
       "      <td>ALPHABET CITY</td>\n",
       "      <td>07 RENTALS - WALKUP APARTMENTS</td>\n",
       "      <td>2</td>\n",
       "      <td>399</td>\n",
       "      <td>39</td>\n",
       "      <td></td>\n",
       "      <td>C7</td>\n",
       "      <td>197 EAST 3RD   STREET</td>\n",
       "      <td>...</td>\n",
       "      <td>16</td>\n",
       "      <td>1</td>\n",
       "      <td>17</td>\n",
       "      <td>2212</td>\n",
       "      <td>7803</td>\n",
       "      <td>1900</td>\n",
       "      <td>2</td>\n",
       "      <td>C7</td>\n",
       "      <td>-</td>\n",
       "      <td>2016-12-09 00:00:00</td>\n",
       "    </tr>\n",
       "    <tr>\n",
       "      <th>3</th>\n",
       "      <td>7</td>\n",
       "      <td>1</td>\n",
       "      <td>ALPHABET CITY</td>\n",
       "      <td>07 RENTALS - WALKUP APARTMENTS</td>\n",
       "      <td>2B</td>\n",
       "      <td>402</td>\n",
       "      <td>21</td>\n",
       "      <td></td>\n",
       "      <td>C4</td>\n",
       "      <td>154 EAST 7TH STREET</td>\n",
       "      <td>...</td>\n",
       "      <td>10</td>\n",
       "      <td>0</td>\n",
       "      <td>10</td>\n",
       "      <td>2272</td>\n",
       "      <td>6794</td>\n",
       "      <td>1913</td>\n",
       "      <td>2</td>\n",
       "      <td>C4</td>\n",
       "      <td>3936272</td>\n",
       "      <td>2016-09-23 00:00:00</td>\n",
       "    </tr>\n",
       "    <tr>\n",
       "      <th>4</th>\n",
       "      <td>8</td>\n",
       "      <td>1</td>\n",
       "      <td>ALPHABET CITY</td>\n",
       "      <td>07 RENTALS - WALKUP APARTMENTS</td>\n",
       "      <td>2A</td>\n",
       "      <td>404</td>\n",
       "      <td>55</td>\n",
       "      <td></td>\n",
       "      <td>C2</td>\n",
       "      <td>301 EAST 10TH   STREET</td>\n",
       "      <td>...</td>\n",
       "      <td>6</td>\n",
       "      <td>0</td>\n",
       "      <td>6</td>\n",
       "      <td>2369</td>\n",
       "      <td>4615</td>\n",
       "      <td>1900</td>\n",
       "      <td>2</td>\n",
       "      <td>C2</td>\n",
       "      <td>8000000</td>\n",
       "      <td>2016-11-17 00:00:00</td>\n",
       "    </tr>\n",
       "  </tbody>\n",
       "</table>\n",
       "<p>5 rows × 22 columns</p>\n",
       "</div>"
      ],
      "text/plain": [
       "   Unnamed: 0  BOROUGH   NEIGHBORHOOD  \\\n",
       "0           4        1  ALPHABET CITY   \n",
       "1           5        1  ALPHABET CITY   \n",
       "2           6        1  ALPHABET CITY   \n",
       "3           7        1  ALPHABET CITY   \n",
       "4           8        1  ALPHABET CITY   \n",
       "\n",
       "                       BUILDING CLASS CATEGORY TAX CLASS AT PRESENT  BLOCK  \\\n",
       "0  07 RENTALS - WALKUP APARTMENTS                                2A    392   \n",
       "1  07 RENTALS - WALKUP APARTMENTS                                 2    399   \n",
       "2  07 RENTALS - WALKUP APARTMENTS                                 2    399   \n",
       "3  07 RENTALS - WALKUP APARTMENTS                                2B    402   \n",
       "4  07 RENTALS - WALKUP APARTMENTS                                2A    404   \n",
       "\n",
       "   LOT EASE-MENT BUILDING CLASS AT PRESENT                 ADDRESS  ...  \\\n",
       "0    6                                  C2            153 AVENUE B  ...   \n",
       "1   26                                  C7   234 EAST 4TH   STREET  ...   \n",
       "2   39                                  C7   197 EAST 3RD   STREET  ...   \n",
       "3   21                                  C4     154 EAST 7TH STREET  ...   \n",
       "4   55                                  C2  301 EAST 10TH   STREET  ...   \n",
       "\n",
       "  RESIDENTIAL UNITS  COMMERCIAL UNITS  TOTAL UNITS  LAND SQUARE FEET  \\\n",
       "0                 5                 0            5              1633   \n",
       "1                28                 3           31              4616   \n",
       "2                16                 1           17              2212   \n",
       "3                10                 0           10              2272   \n",
       "4                 6                 0            6              2369   \n",
       "\n",
       "   GROSS SQUARE FEET YEAR BUILT TAX CLASS AT TIME OF SALE  \\\n",
       "0               6440       1900                         2   \n",
       "1              18690       1900                         2   \n",
       "2               7803       1900                         2   \n",
       "3               6794       1913                         2   \n",
       "4               4615       1900                         2   \n",
       "\n",
       "   BUILDING CLASS AT TIME OF SALE  SALE PRICE            SALE DATE  \n",
       "0                              C2     6625000  2017-07-19 00:00:00  \n",
       "1                              C7         -    2016-12-14 00:00:00  \n",
       "2                              C7         -    2016-12-09 00:00:00  \n",
       "3                              C4     3936272  2016-09-23 00:00:00  \n",
       "4                              C2     8000000  2016-11-17 00:00:00  \n",
       "\n",
       "[5 rows x 22 columns]"
      ]
     },
     "execution_count": 3,
     "metadata": {},
     "output_type": "execute_result"
    }
   ],
   "source": [
    "df.head()"
   ]
  },
  {
   "cell_type": "code",
   "execution_count": 4,
   "metadata": {},
   "outputs": [
    {
     "data": {
      "text/html": [
       "<div>\n",
       "<style scoped>\n",
       "    .dataframe tbody tr th:only-of-type {\n",
       "        vertical-align: middle;\n",
       "    }\n",
       "\n",
       "    .dataframe tbody tr th {\n",
       "        vertical-align: top;\n",
       "    }\n",
       "\n",
       "    .dataframe thead th {\n",
       "        text-align: right;\n",
       "    }\n",
       "</style>\n",
       "<table border=\"1\" class=\"dataframe\">\n",
       "  <thead>\n",
       "    <tr style=\"text-align: right;\">\n",
       "      <th></th>\n",
       "      <th>Unnamed: 0</th>\n",
       "      <th>BOROUGH</th>\n",
       "      <th>NEIGHBORHOOD</th>\n",
       "      <th>BUILDING CLASS CATEGORY</th>\n",
       "      <th>TAX CLASS AT PRESENT</th>\n",
       "      <th>BLOCK</th>\n",
       "      <th>LOT</th>\n",
       "      <th>EASE-MENT</th>\n",
       "      <th>BUILDING CLASS AT PRESENT</th>\n",
       "      <th>ADDRESS</th>\n",
       "      <th>...</th>\n",
       "      <th>RESIDENTIAL UNITS</th>\n",
       "      <th>COMMERCIAL UNITS</th>\n",
       "      <th>TOTAL UNITS</th>\n",
       "      <th>LAND SQUARE FEET</th>\n",
       "      <th>GROSS SQUARE FEET</th>\n",
       "      <th>YEAR BUILT</th>\n",
       "      <th>TAX CLASS AT TIME OF SALE</th>\n",
       "      <th>BUILDING CLASS AT TIME OF SALE</th>\n",
       "      <th>SALE PRICE</th>\n",
       "      <th>SALE DATE</th>\n",
       "    </tr>\n",
       "  </thead>\n",
       "  <tbody>\n",
       "    <tr>\n",
       "      <th>84543</th>\n",
       "      <td>8409</td>\n",
       "      <td>5</td>\n",
       "      <td>WOODROW</td>\n",
       "      <td>02 TWO FAMILY DWELLINGS</td>\n",
       "      <td>1</td>\n",
       "      <td>7349</td>\n",
       "      <td>34</td>\n",
       "      <td></td>\n",
       "      <td>B9</td>\n",
       "      <td>37 QUAIL LANE</td>\n",
       "      <td>...</td>\n",
       "      <td>2</td>\n",
       "      <td>0</td>\n",
       "      <td>2</td>\n",
       "      <td>2400</td>\n",
       "      <td>2575</td>\n",
       "      <td>1998</td>\n",
       "      <td>1</td>\n",
       "      <td>B9</td>\n",
       "      <td>450000</td>\n",
       "      <td>2016-11-28 00:00:00</td>\n",
       "    </tr>\n",
       "    <tr>\n",
       "      <th>84544</th>\n",
       "      <td>8410</td>\n",
       "      <td>5</td>\n",
       "      <td>WOODROW</td>\n",
       "      <td>02 TWO FAMILY DWELLINGS</td>\n",
       "      <td>1</td>\n",
       "      <td>7349</td>\n",
       "      <td>78</td>\n",
       "      <td></td>\n",
       "      <td>B9</td>\n",
       "      <td>32 PHEASANT LANE</td>\n",
       "      <td>...</td>\n",
       "      <td>2</td>\n",
       "      <td>0</td>\n",
       "      <td>2</td>\n",
       "      <td>2498</td>\n",
       "      <td>2377</td>\n",
       "      <td>1998</td>\n",
       "      <td>1</td>\n",
       "      <td>B9</td>\n",
       "      <td>550000</td>\n",
       "      <td>2017-04-21 00:00:00</td>\n",
       "    </tr>\n",
       "    <tr>\n",
       "      <th>84545</th>\n",
       "      <td>8411</td>\n",
       "      <td>5</td>\n",
       "      <td>WOODROW</td>\n",
       "      <td>02 TWO FAMILY DWELLINGS</td>\n",
       "      <td>1</td>\n",
       "      <td>7351</td>\n",
       "      <td>60</td>\n",
       "      <td></td>\n",
       "      <td>B2</td>\n",
       "      <td>49 PITNEY AVENUE</td>\n",
       "      <td>...</td>\n",
       "      <td>2</td>\n",
       "      <td>0</td>\n",
       "      <td>2</td>\n",
       "      <td>4000</td>\n",
       "      <td>1496</td>\n",
       "      <td>1925</td>\n",
       "      <td>1</td>\n",
       "      <td>B2</td>\n",
       "      <td>460000</td>\n",
       "      <td>2017-07-05 00:00:00</td>\n",
       "    </tr>\n",
       "    <tr>\n",
       "      <th>84546</th>\n",
       "      <td>8412</td>\n",
       "      <td>5</td>\n",
       "      <td>WOODROW</td>\n",
       "      <td>22 STORE BUILDINGS</td>\n",
       "      <td>4</td>\n",
       "      <td>7100</td>\n",
       "      <td>28</td>\n",
       "      <td></td>\n",
       "      <td>K6</td>\n",
       "      <td>2730 ARTHUR KILL ROAD</td>\n",
       "      <td>...</td>\n",
       "      <td>0</td>\n",
       "      <td>7</td>\n",
       "      <td>7</td>\n",
       "      <td>208033</td>\n",
       "      <td>64117</td>\n",
       "      <td>2001</td>\n",
       "      <td>4</td>\n",
       "      <td>K6</td>\n",
       "      <td>11693337</td>\n",
       "      <td>2016-12-21 00:00:00</td>\n",
       "    </tr>\n",
       "    <tr>\n",
       "      <th>84547</th>\n",
       "      <td>8413</td>\n",
       "      <td>5</td>\n",
       "      <td>WOODROW</td>\n",
       "      <td>35 INDOOR PUBLIC AND CULTURAL FACILITIES</td>\n",
       "      <td>4</td>\n",
       "      <td>7105</td>\n",
       "      <td>679</td>\n",
       "      <td></td>\n",
       "      <td>P9</td>\n",
       "      <td>155 CLAY PIT ROAD</td>\n",
       "      <td>...</td>\n",
       "      <td>0</td>\n",
       "      <td>1</td>\n",
       "      <td>1</td>\n",
       "      <td>10796</td>\n",
       "      <td>2400</td>\n",
       "      <td>2006</td>\n",
       "      <td>4</td>\n",
       "      <td>P9</td>\n",
       "      <td>69300</td>\n",
       "      <td>2016-10-27 00:00:00</td>\n",
       "    </tr>\n",
       "  </tbody>\n",
       "</table>\n",
       "<p>5 rows × 22 columns</p>\n",
       "</div>"
      ],
      "text/plain": [
       "       Unnamed: 0  BOROUGH NEIGHBORHOOD  \\\n",
       "84543        8409        5      WOODROW   \n",
       "84544        8410        5      WOODROW   \n",
       "84545        8411        5      WOODROW   \n",
       "84546        8412        5      WOODROW   \n",
       "84547        8413        5      WOODROW   \n",
       "\n",
       "                           BUILDING CLASS CATEGORY TAX CLASS AT PRESENT  \\\n",
       "84543  02 TWO FAMILY DWELLINGS                                        1   \n",
       "84544  02 TWO FAMILY DWELLINGS                                        1   \n",
       "84545  02 TWO FAMILY DWELLINGS                                        1   \n",
       "84546  22 STORE BUILDINGS                                             4   \n",
       "84547  35 INDOOR PUBLIC AND CULTURAL FACILITIES                       4   \n",
       "\n",
       "       BLOCK  LOT EASE-MENT BUILDING CLASS AT PRESENT                ADDRESS  \\\n",
       "84543   7349   34                                  B9          37 QUAIL LANE   \n",
       "84544   7349   78                                  B9       32 PHEASANT LANE   \n",
       "84545   7351   60                                  B2       49 PITNEY AVENUE   \n",
       "84546   7100   28                                  K6  2730 ARTHUR KILL ROAD   \n",
       "84547   7105  679                                  P9      155 CLAY PIT ROAD   \n",
       "\n",
       "       ... RESIDENTIAL UNITS  COMMERCIAL UNITS  TOTAL UNITS  LAND SQUARE FEET  \\\n",
       "84543  ...                 2                 0            2              2400   \n",
       "84544  ...                 2                 0            2              2498   \n",
       "84545  ...                 2                 0            2              4000   \n",
       "84546  ...                 0                 7            7            208033   \n",
       "84547  ...                 0                 1            1             10796   \n",
       "\n",
       "       GROSS SQUARE FEET YEAR BUILT TAX CLASS AT TIME OF SALE  \\\n",
       "84543               2575       1998                         1   \n",
       "84544               2377       1998                         1   \n",
       "84545               1496       1925                         1   \n",
       "84546              64117       2001                         4   \n",
       "84547               2400       2006                         4   \n",
       "\n",
       "       BUILDING CLASS AT TIME OF SALE  SALE PRICE            SALE DATE  \n",
       "84543                              B9      450000  2016-11-28 00:00:00  \n",
       "84544                              B9      550000  2017-04-21 00:00:00  \n",
       "84545                              B2      460000  2017-07-05 00:00:00  \n",
       "84546                              K6    11693337  2016-12-21 00:00:00  \n",
       "84547                              P9       69300  2016-10-27 00:00:00  \n",
       "\n",
       "[5 rows x 22 columns]"
      ]
     },
     "execution_count": 4,
     "metadata": {},
     "output_type": "execute_result"
    }
   ],
   "source": [
    "df.tail()"
   ]
  },
  {
   "cell_type": "markdown",
   "metadata": {},
   "source": [
    "--- Melihat info berapa banyak data yang disajikan dan info dari masing-masing columns dataset yang akan diolah ---"
   ]
  },
  {
   "cell_type": "code",
   "execution_count": 5,
   "metadata": {},
   "outputs": [
    {
     "data": {
      "text/plain": [
       "(84548, 22)"
      ]
     },
     "execution_count": 5,
     "metadata": {},
     "output_type": "execute_result"
    }
   ],
   "source": [
    "df.shape"
   ]
  },
  {
   "cell_type": "code",
   "execution_count": 6,
   "metadata": {},
   "outputs": [
    {
     "name": "stdout",
     "output_type": "stream",
     "text": [
      "<class 'pandas.core.frame.DataFrame'>\n",
      "RangeIndex: 84548 entries, 0 to 84547\n",
      "Data columns (total 22 columns):\n",
      " #   Column                          Non-Null Count  Dtype \n",
      "---  ------                          --------------  ----- \n",
      " 0   Unnamed: 0                      84548 non-null  int64 \n",
      " 1   BOROUGH                         84548 non-null  int64 \n",
      " 2   NEIGHBORHOOD                    84548 non-null  object\n",
      " 3   BUILDING CLASS CATEGORY         84548 non-null  object\n",
      " 4   TAX CLASS AT PRESENT            84548 non-null  object\n",
      " 5   BLOCK                           84548 non-null  int64 \n",
      " 6   LOT                             84548 non-null  int64 \n",
      " 7   EASE-MENT                       84548 non-null  object\n",
      " 8   BUILDING CLASS AT PRESENT       84548 non-null  object\n",
      " 9   ADDRESS                         84548 non-null  object\n",
      " 10  APARTMENT NUMBER                84548 non-null  object\n",
      " 11  ZIP CODE                        84548 non-null  int64 \n",
      " 12  RESIDENTIAL UNITS               84548 non-null  int64 \n",
      " 13  COMMERCIAL UNITS                84548 non-null  int64 \n",
      " 14  TOTAL UNITS                     84548 non-null  int64 \n",
      " 15  LAND SQUARE FEET                84548 non-null  object\n",
      " 16  GROSS SQUARE FEET               84548 non-null  object\n",
      " 17  YEAR BUILT                      84548 non-null  int64 \n",
      " 18  TAX CLASS AT TIME OF SALE       84548 non-null  int64 \n",
      " 19  BUILDING CLASS AT TIME OF SALE  84548 non-null  object\n",
      " 20  SALE PRICE                      84548 non-null  object\n",
      " 21  SALE DATE                       84548 non-null  object\n",
      "dtypes: int64(10), object(12)\n",
      "memory usage: 14.2+ MB\n"
     ]
    }
   ],
   "source": [
    "df.info()"
   ]
  },
  {
   "cell_type": "markdown",
   "metadata": {},
   "source": [
    " --- Terlihat bahwa columns dengan nama \"Unnamed : 0\", EASE-MENT, dan beberapa kolom lainnya tidak memiliki peran penting dalam analisis data karena memiliki data yang blank, oleh karena itu sebaiknya kita harus menghapusnya dari dataset ---"
   ]
  },
  {
   "cell_type": "code",
   "execution_count": 7,
   "metadata": {},
   "outputs": [],
   "source": [
    "df_new= pd.read_csv('nyc-rolling-sales.csv')"
   ]
  },
  {
   "cell_type": "code",
   "execution_count": 8,
   "metadata": {},
   "outputs": [
    {
     "data": {
      "text/html": [
       "<div>\n",
       "<style scoped>\n",
       "    .dataframe tbody tr th:only-of-type {\n",
       "        vertical-align: middle;\n",
       "    }\n",
       "\n",
       "    .dataframe tbody tr th {\n",
       "        vertical-align: top;\n",
       "    }\n",
       "\n",
       "    .dataframe thead th {\n",
       "        text-align: right;\n",
       "    }\n",
       "</style>\n",
       "<table border=\"1\" class=\"dataframe\">\n",
       "  <thead>\n",
       "    <tr style=\"text-align: right;\">\n",
       "      <th></th>\n",
       "      <th>BOROUGH</th>\n",
       "      <th>NEIGHBORHOOD</th>\n",
       "      <th>BUILDING CLASS CATEGORY</th>\n",
       "      <th>TAX CLASS AT PRESENT</th>\n",
       "      <th>BLOCK</th>\n",
       "      <th>LOT</th>\n",
       "      <th>BUILDING CLASS AT PRESENT</th>\n",
       "      <th>RESIDENTIAL UNITS</th>\n",
       "      <th>COMMERCIAL UNITS</th>\n",
       "      <th>TOTAL UNITS</th>\n",
       "      <th>LAND SQUARE FEET</th>\n",
       "      <th>GROSS SQUARE FEET</th>\n",
       "      <th>YEAR BUILT</th>\n",
       "      <th>TAX CLASS AT TIME OF SALE</th>\n",
       "      <th>BUILDING CLASS AT TIME OF SALE</th>\n",
       "      <th>SALE PRICE</th>\n",
       "      <th>SALE DATE</th>\n",
       "    </tr>\n",
       "  </thead>\n",
       "  <tbody>\n",
       "    <tr>\n",
       "      <th>0</th>\n",
       "      <td>1</td>\n",
       "      <td>ALPHABET CITY</td>\n",
       "      <td>07 RENTALS - WALKUP APARTMENTS</td>\n",
       "      <td>2A</td>\n",
       "      <td>392</td>\n",
       "      <td>6</td>\n",
       "      <td>C2</td>\n",
       "      <td>5</td>\n",
       "      <td>0</td>\n",
       "      <td>5</td>\n",
       "      <td>1633</td>\n",
       "      <td>6440</td>\n",
       "      <td>1900</td>\n",
       "      <td>2</td>\n",
       "      <td>C2</td>\n",
       "      <td>6625000</td>\n",
       "      <td>2017-07-19 00:00:00</td>\n",
       "    </tr>\n",
       "    <tr>\n",
       "      <th>1</th>\n",
       "      <td>1</td>\n",
       "      <td>ALPHABET CITY</td>\n",
       "      <td>07 RENTALS - WALKUP APARTMENTS</td>\n",
       "      <td>2</td>\n",
       "      <td>399</td>\n",
       "      <td>26</td>\n",
       "      <td>C7</td>\n",
       "      <td>28</td>\n",
       "      <td>3</td>\n",
       "      <td>31</td>\n",
       "      <td>4616</td>\n",
       "      <td>18690</td>\n",
       "      <td>1900</td>\n",
       "      <td>2</td>\n",
       "      <td>C7</td>\n",
       "      <td>-</td>\n",
       "      <td>2016-12-14 00:00:00</td>\n",
       "    </tr>\n",
       "  </tbody>\n",
       "</table>\n",
       "</div>"
      ],
      "text/plain": [
       "   BOROUGH   NEIGHBORHOOD                      BUILDING CLASS CATEGORY  \\\n",
       "0        1  ALPHABET CITY  07 RENTALS - WALKUP APARTMENTS                \n",
       "1        1  ALPHABET CITY  07 RENTALS - WALKUP APARTMENTS                \n",
       "\n",
       "  TAX CLASS AT PRESENT  BLOCK  LOT BUILDING CLASS AT PRESENT  \\\n",
       "0                   2A    392    6                        C2   \n",
       "1                    2    399   26                        C7   \n",
       "\n",
       "   RESIDENTIAL UNITS  COMMERCIAL UNITS  TOTAL UNITS LAND SQUARE FEET  \\\n",
       "0                  5                 0            5             1633   \n",
       "1                 28                 3           31             4616   \n",
       "\n",
       "  GROSS SQUARE FEET  YEAR BUILT  TAX CLASS AT TIME OF SALE  \\\n",
       "0              6440        1900                          2   \n",
       "1             18690        1900                          2   \n",
       "\n",
       "  BUILDING CLASS AT TIME OF SALE SALE PRICE            SALE DATE  \n",
       "0                             C2    6625000  2017-07-19 00:00:00  \n",
       "1                             C7        -    2016-12-14 00:00:00  "
      ]
     },
     "execution_count": 8,
     "metadata": {},
     "output_type": "execute_result"
    }
   ],
   "source": [
    "df_new = df.drop(columns=['Unnamed: 0', 'EASE-MENT','ADDRESS','APARTMENT NUMBER', 'ZIP CODE'])\n",
    "df_new.head(2)"
   ]
  },
  {
   "cell_type": "code",
   "execution_count": 9,
   "metadata": {},
   "outputs": [
    {
     "name": "stdout",
     "output_type": "stream",
     "text": [
      "<class 'pandas.core.frame.DataFrame'>\n",
      "RangeIndex: 84548 entries, 0 to 84547\n",
      "Data columns (total 17 columns):\n",
      " #   Column                          Non-Null Count  Dtype \n",
      "---  ------                          --------------  ----- \n",
      " 0   BOROUGH                         84548 non-null  int64 \n",
      " 1   NEIGHBORHOOD                    84548 non-null  object\n",
      " 2   BUILDING CLASS CATEGORY         84548 non-null  object\n",
      " 3   TAX CLASS AT PRESENT            84548 non-null  object\n",
      " 4   BLOCK                           84548 non-null  int64 \n",
      " 5   LOT                             84548 non-null  int64 \n",
      " 6   BUILDING CLASS AT PRESENT       84548 non-null  object\n",
      " 7   RESIDENTIAL UNITS               84548 non-null  int64 \n",
      " 8   COMMERCIAL UNITS                84548 non-null  int64 \n",
      " 9   TOTAL UNITS                     84548 non-null  int64 \n",
      " 10  LAND SQUARE FEET                84548 non-null  object\n",
      " 11  GROSS SQUARE FEET               84548 non-null  object\n",
      " 12  YEAR BUILT                      84548 non-null  int64 \n",
      " 13  TAX CLASS AT TIME OF SALE       84548 non-null  int64 \n",
      " 14  BUILDING CLASS AT TIME OF SALE  84548 non-null  object\n",
      " 15  SALE PRICE                      84548 non-null  object\n",
      " 16  SALE DATE                       84548 non-null  object\n",
      "dtypes: int64(8), object(9)\n",
      "memory usage: 11.0+ MB\n"
     ]
    }
   ],
   "source": [
    "df_new.info()"
   ]
  },
  {
   "cell_type": "markdown",
   "metadata": {},
   "source": [
    "---- Melihat Jumlah Missing Values Pada Setiap Kolom Baru ---"
   ]
  },
  {
   "cell_type": "code",
   "execution_count": 10,
   "metadata": {},
   "outputs": [
    {
     "data": {
      "text/plain": [
       "BOROUGH                           0\n",
       "NEIGHBORHOOD                      0\n",
       "BUILDING CLASS CATEGORY           0\n",
       "TAX CLASS AT PRESENT              0\n",
       "BLOCK                             0\n",
       "LOT                               0\n",
       "BUILDING CLASS AT PRESENT         0\n",
       "RESIDENTIAL UNITS                 0\n",
       "COMMERCIAL UNITS                  0\n",
       "TOTAL UNITS                       0\n",
       "LAND SQUARE FEET                  0\n",
       "GROSS SQUARE FEET                 0\n",
       "YEAR BUILT                        0\n",
       "TAX CLASS AT TIME OF SALE         0\n",
       "BUILDING CLASS AT TIME OF SALE    0\n",
       "SALE PRICE                        0\n",
       "SALE DATE                         0\n",
       "dtype: int64"
      ]
     },
     "execution_count": 10,
     "metadata": {},
     "output_type": "execute_result"
    }
   ],
   "source": [
    "df_new.isnull().sum()"
   ]
  },
  {
   "cell_type": "markdown",
   "metadata": {},
   "source": [
    "Disini terlihat bahwa sudah tidak ada lagi nilai null pada setiap kolom dari dataset yang kita akan olah, namun tidak ada salahnya kita untuk melakukan langkah preventif untuk mengganti nilai null yang ada pada setiap kolom, seandainya memang ada."
   ]
  },
  {
   "cell_type": "code",
   "execution_count": 11,
   "metadata": {},
   "outputs": [],
   "source": [
    "categoricals_columns = ['TAX CLASS AT PRESENT', 'BUILDING CLASS AT PRESENT', 'YEAR BUILT']\n",
    "for cat_col in categoricals_columns:\n",
    "    df_new[cat_col].fillna(df_new[cat_col].mode()[0],inplace=True)"
   ]
  },
  {
   "cell_type": "markdown",
   "metadata": {},
   "source": [
    "Mengganti nilai atau null pada categorical columns dengan modus yang ada pada columns tersebut."
   ]
  },
  {
   "cell_type": "code",
   "execution_count": 12,
   "metadata": {},
   "outputs": [],
   "source": [
    "float_columns = ['BOROUGH']\n",
    "for float_col in float_columns:\n",
    "    df_new[float_col].fillna(df_new[float_col].median(),inplace=True)"
   ]
  },
  {
   "cell_type": "code",
   "execution_count": 13,
   "metadata": {},
   "outputs": [],
   "source": [
    "# LAND SQUARE FEET,GROSS SQUARE FEET, SALE PRICE, BOROUGH should be numeric. \n",
    "# SALE DATE datetime format.\n",
    "# categorical: NEIGHBORHOOD, BUILDING CLASS CATEGORY, TAX CLASS AT PRESENT, BUILDING CLASS AT PRESENT,\n",
    "# BUILDING CLASS AT TIME OF SALE, TAX CLASS AT TIME OF SALE,BOROUGH \n",
    "\n",
    "numer = ['LAND SQUARE FEET','GROSS SQUARE FEET', 'SALE PRICE', 'BOROUGH']\n",
    "for col in numer: # coerce for missing values\n",
    "    df_new[col] = pd.to_numeric(df_new[col], errors='coerce')\n",
    "\n",
    "categ = ['NEIGHBORHOOD', 'BUILDING CLASS CATEGORY', 'TAX CLASS AT PRESENT', 'BUILDING CLASS AT PRESENT', 'BUILDING CLASS AT TIME OF SALE', 'TAX CLASS AT TIME OF SALE']\n",
    "for col in categ:\n",
    "    df_new[col] = df_new[col].astype('category')\n",
    "\n",
    "df_new['SALE DATE'] = pd.to_datetime(df_new['SALE DATE'], errors='coerce')"
   ]
  },
  {
   "cell_type": "markdown",
   "metadata": {},
   "source": [
    "Chek missing values yang ada pada dataset yang telah diolah"
   ]
  },
  {
   "cell_type": "code",
   "execution_count": 14,
   "metadata": {},
   "outputs": [
    {
     "name": "stdout",
     "output_type": "stream",
     "text": [
      "                  LAND SQUARE FEET  GROSS SQUARE FEET   SALE PRICE\n",
      "percent missing          31.049818          32.658372     17.22217\n",
      "how many missing      26252.000000       27612.000000  14561.00000\n"
     ]
    }
   ],
   "source": [
    "missing = df_new.isnull().sum()/len(df_new)*100\n",
    "\n",
    "print(pd.DataFrame([missing[missing>0],pd.Series(df_new.isnull().sum()[df_new.isnull().sum()>1000])], index=['percent missing','how many missing']))"
   ]
  },
  {
   "cell_type": "code",
   "execution_count": 15,
   "metadata": {},
   "outputs": [
    {
     "name": "stdout",
     "output_type": "stream",
     "text": [
      "(6, 17)\n",
      "(1366, 17)\n"
     ]
    }
   ],
   "source": [
    "print(df_new[(df_new['LAND SQUARE FEET'].isnull()) & (df_new['GROSS SQUARE FEET'].notnull())].shape)\n",
    "print(df_new[(df_new['LAND SQUARE FEET'].notnull()) & (df_new['GROSS SQUARE FEET'].isnull())].shape)"
   ]
  },
  {
   "cell_type": "markdown",
   "metadata": {},
   "source": [
    "There are 1372 rows that can be filled in with their approximate values."
   ]
  },
  {
   "cell_type": "code",
   "execution_count": 16,
   "metadata": {},
   "outputs": [],
   "source": [
    "df_new['LAND SQUARE FEET'] = df_new['LAND SQUARE FEET'].mask((df_new['LAND SQUARE FEET'].isnull()) & (df_new['GROSS SQUARE FEET'].notnull()), df_new['GROSS SQUARE FEET'])\n",
    "df_new['GROSS SQUARE FEET'] = df_new['GROSS SQUARE FEET'].mask((df_new['LAND SQUARE FEET'].notnull()) & (df_new['GROSS SQUARE FEET'].isnull()), df_new['LAND SQUARE FEET'])"
   ]
  },
  {
   "cell_type": "code",
   "execution_count": 17,
   "metadata": {},
   "outputs": [
    {
     "name": "stdout",
     "output_type": "stream",
     "text": [
      "959\n"
     ]
    },
    {
     "data": {
      "text/html": [
       "<div>\n",
       "<style scoped>\n",
       "    .dataframe tbody tr th:only-of-type {\n",
       "        vertical-align: middle;\n",
       "    }\n",
       "\n",
       "    .dataframe tbody tr th {\n",
       "        vertical-align: top;\n",
       "    }\n",
       "\n",
       "    .dataframe thead th {\n",
       "        text-align: right;\n",
       "    }\n",
       "</style>\n",
       "<table border=\"1\" class=\"dataframe\">\n",
       "  <thead>\n",
       "    <tr style=\"text-align: right;\">\n",
       "      <th></th>\n",
       "      <th>BOROUGH</th>\n",
       "      <th>NEIGHBORHOOD</th>\n",
       "      <th>BUILDING CLASS CATEGORY</th>\n",
       "      <th>TAX CLASS AT PRESENT</th>\n",
       "      <th>BLOCK</th>\n",
       "      <th>LOT</th>\n",
       "      <th>BUILDING CLASS AT PRESENT</th>\n",
       "      <th>RESIDENTIAL UNITS</th>\n",
       "      <th>COMMERCIAL UNITS</th>\n",
       "      <th>TOTAL UNITS</th>\n",
       "      <th>LAND SQUARE FEET</th>\n",
       "      <th>GROSS SQUARE FEET</th>\n",
       "      <th>YEAR BUILT</th>\n",
       "      <th>TAX CLASS AT TIME OF SALE</th>\n",
       "      <th>BUILDING CLASS AT TIME OF SALE</th>\n",
       "      <th>SALE PRICE</th>\n",
       "      <th>SALE DATE</th>\n",
       "    </tr>\n",
       "  </thead>\n",
       "  <tbody>\n",
       "    <tr>\n",
       "      <th>48</th>\n",
       "      <td>1</td>\n",
       "      <td>ALPHABET CITY</td>\n",
       "      <td>09 COOPS - WALKUP APARTMENTS</td>\n",
       "      <td>2</td>\n",
       "      <td>396</td>\n",
       "      <td>20</td>\n",
       "      <td>C6</td>\n",
       "      <td>0</td>\n",
       "      <td>0</td>\n",
       "      <td>0</td>\n",
       "      <td>NaN</td>\n",
       "      <td>NaN</td>\n",
       "      <td>1920</td>\n",
       "      <td>2</td>\n",
       "      <td>C6</td>\n",
       "      <td>NaN</td>\n",
       "      <td>2017-03-20</td>\n",
       "    </tr>\n",
       "    <tr>\n",
       "      <th>49</th>\n",
       "      <td>1</td>\n",
       "      <td>ALPHABET CITY</td>\n",
       "      <td>09 COOPS - WALKUP APARTMENTS</td>\n",
       "      <td>2</td>\n",
       "      <td>396</td>\n",
       "      <td>20</td>\n",
       "      <td>C6</td>\n",
       "      <td>0</td>\n",
       "      <td>0</td>\n",
       "      <td>0</td>\n",
       "      <td>NaN</td>\n",
       "      <td>NaN</td>\n",
       "      <td>1920</td>\n",
       "      <td>2</td>\n",
       "      <td>C6</td>\n",
       "      <td>NaN</td>\n",
       "      <td>2017-03-20</td>\n",
       "    </tr>\n",
       "    <tr>\n",
       "      <th>76286</th>\n",
       "      <td>5</td>\n",
       "      <td>ANNADALE</td>\n",
       "      <td>02 TWO FAMILY DWELLINGS</td>\n",
       "      <td>1</td>\n",
       "      <td>6350</td>\n",
       "      <td>7</td>\n",
       "      <td>B2</td>\n",
       "      <td>2</td>\n",
       "      <td>0</td>\n",
       "      <td>2</td>\n",
       "      <td>8000.0</td>\n",
       "      <td>4208.0</td>\n",
       "      <td>1985</td>\n",
       "      <td>1</td>\n",
       "      <td>B2</td>\n",
       "      <td>NaN</td>\n",
       "      <td>2017-06-27</td>\n",
       "    </tr>\n",
       "    <tr>\n",
       "      <th>76322</th>\n",
       "      <td>5</td>\n",
       "      <td>ANNADALE</td>\n",
       "      <td>05 TAX CLASS 1 VACANT LAND</td>\n",
       "      <td>1B</td>\n",
       "      <td>6459</td>\n",
       "      <td>28</td>\n",
       "      <td>V0</td>\n",
       "      <td>0</td>\n",
       "      <td>0</td>\n",
       "      <td>0</td>\n",
       "      <td>6667.0</td>\n",
       "      <td>6667.0</td>\n",
       "      <td>0</td>\n",
       "      <td>1</td>\n",
       "      <td>V0</td>\n",
       "      <td>NaN</td>\n",
       "      <td>2017-05-11</td>\n",
       "    </tr>\n",
       "    <tr>\n",
       "      <th>76323</th>\n",
       "      <td>5</td>\n",
       "      <td>ANNADALE</td>\n",
       "      <td>05 TAX CLASS 1 VACANT LAND</td>\n",
       "      <td>1B</td>\n",
       "      <td>6459</td>\n",
       "      <td>28</td>\n",
       "      <td>V0</td>\n",
       "      <td>0</td>\n",
       "      <td>0</td>\n",
       "      <td>0</td>\n",
       "      <td>6667.0</td>\n",
       "      <td>6667.0</td>\n",
       "      <td>0</td>\n",
       "      <td>1</td>\n",
       "      <td>V0</td>\n",
       "      <td>NaN</td>\n",
       "      <td>2017-05-11</td>\n",
       "    </tr>\n",
       "    <tr>\n",
       "      <th>76287</th>\n",
       "      <td>5</td>\n",
       "      <td>ANNADALE</td>\n",
       "      <td>02 TWO FAMILY DWELLINGS</td>\n",
       "      <td>1</td>\n",
       "      <td>6350</td>\n",
       "      <td>7</td>\n",
       "      <td>B2</td>\n",
       "      <td>2</td>\n",
       "      <td>0</td>\n",
       "      <td>2</td>\n",
       "      <td>8000.0</td>\n",
       "      <td>4208.0</td>\n",
       "      <td>1985</td>\n",
       "      <td>1</td>\n",
       "      <td>B2</td>\n",
       "      <td>NaN</td>\n",
       "      <td>2017-06-27</td>\n",
       "    </tr>\n",
       "    <tr>\n",
       "      <th>76384</th>\n",
       "      <td>5</td>\n",
       "      <td>ARDEN HEIGHTS</td>\n",
       "      <td>01 ONE FAMILY DWELLINGS</td>\n",
       "      <td>1</td>\n",
       "      <td>5741</td>\n",
       "      <td>93</td>\n",
       "      <td>A5</td>\n",
       "      <td>1</td>\n",
       "      <td>0</td>\n",
       "      <td>1</td>\n",
       "      <td>500.0</td>\n",
       "      <td>1354.0</td>\n",
       "      <td>1996</td>\n",
       "      <td>1</td>\n",
       "      <td>A5</td>\n",
       "      <td>320000.0</td>\n",
       "      <td>2017-06-06</td>\n",
       "    </tr>\n",
       "    <tr>\n",
       "      <th>76383</th>\n",
       "      <td>5</td>\n",
       "      <td>ARDEN HEIGHTS</td>\n",
       "      <td>01 ONE FAMILY DWELLINGS</td>\n",
       "      <td>1</td>\n",
       "      <td>5741</td>\n",
       "      <td>93</td>\n",
       "      <td>A5</td>\n",
       "      <td>1</td>\n",
       "      <td>0</td>\n",
       "      <td>1</td>\n",
       "      <td>500.0</td>\n",
       "      <td>1354.0</td>\n",
       "      <td>1996</td>\n",
       "      <td>1</td>\n",
       "      <td>A5</td>\n",
       "      <td>320000.0</td>\n",
       "      <td>2017-06-06</td>\n",
       "    </tr>\n",
       "    <tr>\n",
       "      <th>76643</th>\n",
       "      <td>5</td>\n",
       "      <td>ARROCHAR</td>\n",
       "      <td>02 TWO FAMILY DWELLINGS</td>\n",
       "      <td>1</td>\n",
       "      <td>3103</td>\n",
       "      <td>57</td>\n",
       "      <td>B2</td>\n",
       "      <td>2</td>\n",
       "      <td>0</td>\n",
       "      <td>2</td>\n",
       "      <td>5000.0</td>\n",
       "      <td>2733.0</td>\n",
       "      <td>1925</td>\n",
       "      <td>1</td>\n",
       "      <td>B2</td>\n",
       "      <td>NaN</td>\n",
       "      <td>2017-03-21</td>\n",
       "    </tr>\n",
       "    <tr>\n",
       "      <th>76644</th>\n",
       "      <td>5</td>\n",
       "      <td>ARROCHAR</td>\n",
       "      <td>02 TWO FAMILY DWELLINGS</td>\n",
       "      <td>1</td>\n",
       "      <td>3103</td>\n",
       "      <td>57</td>\n",
       "      <td>B2</td>\n",
       "      <td>2</td>\n",
       "      <td>0</td>\n",
       "      <td>2</td>\n",
       "      <td>5000.0</td>\n",
       "      <td>2733.0</td>\n",
       "      <td>1925</td>\n",
       "      <td>1</td>\n",
       "      <td>B2</td>\n",
       "      <td>NaN</td>\n",
       "      <td>2017-03-21</td>\n",
       "    </tr>\n",
       "  </tbody>\n",
       "</table>\n",
       "</div>"
      ],
      "text/plain": [
       "       BOROUGH   NEIGHBORHOOD                      BUILDING CLASS CATEGORY  \\\n",
       "48           1  ALPHABET CITY  09 COOPS - WALKUP APARTMENTS                  \n",
       "49           1  ALPHABET CITY  09 COOPS - WALKUP APARTMENTS                  \n",
       "76286        5       ANNADALE  02 TWO FAMILY DWELLINGS                       \n",
       "76322        5       ANNADALE  05 TAX CLASS 1 VACANT LAND                    \n",
       "76323        5       ANNADALE  05 TAX CLASS 1 VACANT LAND                    \n",
       "76287        5       ANNADALE  02 TWO FAMILY DWELLINGS                       \n",
       "76384        5  ARDEN HEIGHTS  01 ONE FAMILY DWELLINGS                       \n",
       "76383        5  ARDEN HEIGHTS  01 ONE FAMILY DWELLINGS                       \n",
       "76643        5       ARROCHAR  02 TWO FAMILY DWELLINGS                       \n",
       "76644        5       ARROCHAR  02 TWO FAMILY DWELLINGS                       \n",
       "\n",
       "      TAX CLASS AT PRESENT  BLOCK  LOT BUILDING CLASS AT PRESENT  \\\n",
       "48                       2    396   20                        C6   \n",
       "49                       2    396   20                        C6   \n",
       "76286                    1   6350    7                        B2   \n",
       "76322                   1B   6459   28                        V0   \n",
       "76323                   1B   6459   28                        V0   \n",
       "76287                    1   6350    7                        B2   \n",
       "76384                    1   5741   93                        A5   \n",
       "76383                    1   5741   93                        A5   \n",
       "76643                    1   3103   57                        B2   \n",
       "76644                    1   3103   57                        B2   \n",
       "\n",
       "       RESIDENTIAL UNITS  COMMERCIAL UNITS  TOTAL UNITS  LAND SQUARE FEET  \\\n",
       "48                     0                 0            0               NaN   \n",
       "49                     0                 0            0               NaN   \n",
       "76286                  2                 0            2            8000.0   \n",
       "76322                  0                 0            0            6667.0   \n",
       "76323                  0                 0            0            6667.0   \n",
       "76287                  2                 0            2            8000.0   \n",
       "76384                  1                 0            1             500.0   \n",
       "76383                  1                 0            1             500.0   \n",
       "76643                  2                 0            2            5000.0   \n",
       "76644                  2                 0            2            5000.0   \n",
       "\n",
       "       GROSS SQUARE FEET  YEAR BUILT TAX CLASS AT TIME OF SALE  \\\n",
       "48                   NaN        1920                         2   \n",
       "49                   NaN        1920                         2   \n",
       "76286             4208.0        1985                         1   \n",
       "76322             6667.0           0                         1   \n",
       "76323             6667.0           0                         1   \n",
       "76287             4208.0        1985                         1   \n",
       "76384             1354.0        1996                         1   \n",
       "76383             1354.0        1996                         1   \n",
       "76643             2733.0        1925                         1   \n",
       "76644             2733.0        1925                         1   \n",
       "\n",
       "      BUILDING CLASS AT TIME OF SALE  SALE PRICE  SALE DATE  \n",
       "48                                C6         NaN 2017-03-20  \n",
       "49                                C6         NaN 2017-03-20  \n",
       "76286                             B2         NaN 2017-06-27  \n",
       "76322                             V0         NaN 2017-05-11  \n",
       "76323                             V0         NaN 2017-05-11  \n",
       "76287                             B2         NaN 2017-06-27  \n",
       "76384                             A5    320000.0 2017-06-06  \n",
       "76383                             A5    320000.0 2017-06-06  \n",
       "76643                             B2         NaN 2017-03-21  \n",
       "76644                             B2         NaN 2017-03-21  "
      ]
     },
     "execution_count": 17,
     "metadata": {},
     "output_type": "execute_result"
    }
   ],
   "source": [
    "#  Check for duplicates before\n",
    "\n",
    "print(sum(df_new.duplicated()))\n",
    "\n",
    "df_new[df_new.duplicated(keep=False)].sort_values(['NEIGHBORHOOD']).head(10)\n",
    "\n",
    "# df.duplicated() automatically excludes duplicates, to keep duplicates in df we use keep=False\n",
    "\n",
    "# in df.duplicated(df.columns) we can specify column names to look for duplicates only in those mentioned columns."
   ]
  },
  {
   "cell_type": "markdown",
   "metadata": {},
   "source": [
    "Dataset memiliki 765 baris data ganda, oleh karenanya kita harus menghapus data tersebut agar tidak mengganggu proses analisis."
   ]
  },
  {
   "cell_type": "code",
   "execution_count": 18,
   "metadata": {},
   "outputs": [
    {
     "name": "stdout",
     "output_type": "stream",
     "text": [
      "0\n"
     ]
    }
   ],
   "source": [
    "df_new.drop_duplicates(inplace=True)\n",
    "\n",
    "print(sum(df_new.duplicated()))"
   ]
  },
  {
   "cell_type": "markdown",
   "metadata": {},
   "source": [
    "## Exploratory data analysis"
   ]
  },
  {
   "cell_type": "markdown",
   "metadata": {},
   "source": [
    "Now, let's get a simple descriptive statistics with `.describe()` function for `COMMERCIAL UNITS` features."
   ]
  },
  {
   "cell_type": "code",
   "execution_count": 19,
   "metadata": {},
   "outputs": [
    {
     "data": {
      "text/html": [
       "<div>\n",
       "<style scoped>\n",
       "    .dataframe tbody tr th:only-of-type {\n",
       "        vertical-align: middle;\n",
       "    }\n",
       "\n",
       "    .dataframe tbody tr th {\n",
       "        vertical-align: top;\n",
       "    }\n",
       "\n",
       "    .dataframe thead th {\n",
       "        text-align: right;\n",
       "    }\n",
       "</style>\n",
       "<table border=\"1\" class=\"dataframe\">\n",
       "  <thead>\n",
       "    <tr style=\"text-align: right;\">\n",
       "      <th></th>\n",
       "      <th>BOROUGH</th>\n",
       "      <th>BLOCK</th>\n",
       "      <th>LOT</th>\n",
       "      <th>RESIDENTIAL UNITS</th>\n",
       "      <th>COMMERCIAL UNITS</th>\n",
       "      <th>TOTAL UNITS</th>\n",
       "      <th>LAND SQUARE FEET</th>\n",
       "      <th>GROSS SQUARE FEET</th>\n",
       "      <th>YEAR BUILT</th>\n",
       "      <th>SALE PRICE</th>\n",
       "    </tr>\n",
       "  </thead>\n",
       "  <tbody>\n",
       "    <tr>\n",
       "      <th>count</th>\n",
       "      <td>78597.000000</td>\n",
       "      <td>78597.000000</td>\n",
       "      <td>78597.000000</td>\n",
       "      <td>78597.000000</td>\n",
       "      <td>78597.0</td>\n",
       "      <td>78597.000000</td>\n",
       "      <td>5.270000e+04</td>\n",
       "      <td>5.270000e+04</td>\n",
       "      <td>78597.000000</td>\n",
       "      <td>6.554700e+04</td>\n",
       "    </tr>\n",
       "    <tr>\n",
       "      <th>mean</th>\n",
       "      <td>3.005293</td>\n",
       "      <td>4273.930455</td>\n",
       "      <td>395.950151</td>\n",
       "      <td>1.672354</td>\n",
       "      <td>0.0</td>\n",
       "      <td>1.704785</td>\n",
       "      <td>3.129663e+03</td>\n",
       "      <td>2.691450e+03</td>\n",
       "      <td>1780.920366</td>\n",
       "      <td>9.961302e+05</td>\n",
       "    </tr>\n",
       "    <tr>\n",
       "      <th>std</th>\n",
       "      <td>1.298328</td>\n",
       "      <td>3587.628481</td>\n",
       "      <td>671.994361</td>\n",
       "      <td>9.047616</td>\n",
       "      <td>0.0</td>\n",
       "      <td>9.043355</td>\n",
       "      <td>2.929532e+04</td>\n",
       "      <td>2.772100e+04</td>\n",
       "      <td>551.273774</td>\n",
       "      <td>3.331151e+06</td>\n",
       "    </tr>\n",
       "    <tr>\n",
       "      <th>min</th>\n",
       "      <td>1.000000</td>\n",
       "      <td>1.000000</td>\n",
       "      <td>1.000000</td>\n",
       "      <td>0.000000</td>\n",
       "      <td>0.0</td>\n",
       "      <td>0.000000</td>\n",
       "      <td>0.000000e+00</td>\n",
       "      <td>0.000000e+00</td>\n",
       "      <td>0.000000</td>\n",
       "      <td>0.000000e+00</td>\n",
       "    </tr>\n",
       "    <tr>\n",
       "      <th>25%</th>\n",
       "      <td>2.000000</td>\n",
       "      <td>1330.000000</td>\n",
       "      <td>23.000000</td>\n",
       "      <td>0.000000</td>\n",
       "      <td>0.0</td>\n",
       "      <td>1.000000</td>\n",
       "      <td>1.600000e+03</td>\n",
       "      <td>9.750000e+02</td>\n",
       "      <td>1920.000000</td>\n",
       "      <td>2.400000e+05</td>\n",
       "    </tr>\n",
       "    <tr>\n",
       "      <th>50%</th>\n",
       "      <td>3.000000</td>\n",
       "      <td>3343.000000</td>\n",
       "      <td>52.000000</td>\n",
       "      <td>1.000000</td>\n",
       "      <td>0.0</td>\n",
       "      <td>1.000000</td>\n",
       "      <td>2.295000e+03</td>\n",
       "      <td>1.600000e+03</td>\n",
       "      <td>1940.000000</td>\n",
       "      <td>5.300000e+05</td>\n",
       "    </tr>\n",
       "    <tr>\n",
       "      <th>75%</th>\n",
       "      <td>4.000000</td>\n",
       "      <td>6360.000000</td>\n",
       "      <td>1003.000000</td>\n",
       "      <td>2.000000</td>\n",
       "      <td>0.0</td>\n",
       "      <td>2.000000</td>\n",
       "      <td>3.300000e+03</td>\n",
       "      <td>2.388000e+03</td>\n",
       "      <td>1967.000000</td>\n",
       "      <td>9.245710e+05</td>\n",
       "    </tr>\n",
       "    <tr>\n",
       "      <th>max</th>\n",
       "      <td>5.000000</td>\n",
       "      <td>16322.000000</td>\n",
       "      <td>9106.000000</td>\n",
       "      <td>889.000000</td>\n",
       "      <td>0.0</td>\n",
       "      <td>889.000000</td>\n",
       "      <td>4.252327e+06</td>\n",
       "      <td>4.252327e+06</td>\n",
       "      <td>2017.000000</td>\n",
       "      <td>3.450000e+08</td>\n",
       "    </tr>\n",
       "  </tbody>\n",
       "</table>\n",
       "</div>"
      ],
      "text/plain": [
       "            BOROUGH         BLOCK           LOT  RESIDENTIAL UNITS  \\\n",
       "count  78597.000000  78597.000000  78597.000000       78597.000000   \n",
       "mean       3.005293   4273.930455    395.950151           1.672354   \n",
       "std        1.298328   3587.628481    671.994361           9.047616   \n",
       "min        1.000000      1.000000      1.000000           0.000000   \n",
       "25%        2.000000   1330.000000     23.000000           0.000000   \n",
       "50%        3.000000   3343.000000     52.000000           1.000000   \n",
       "75%        4.000000   6360.000000   1003.000000           2.000000   \n",
       "max        5.000000  16322.000000   9106.000000         889.000000   \n",
       "\n",
       "       COMMERCIAL UNITS   TOTAL UNITS  LAND SQUARE FEET  GROSS SQUARE FEET  \\\n",
       "count           78597.0  78597.000000      5.270000e+04       5.270000e+04   \n",
       "mean                0.0      1.704785      3.129663e+03       2.691450e+03   \n",
       "std                 0.0      9.043355      2.929532e+04       2.772100e+04   \n",
       "min                 0.0      0.000000      0.000000e+00       0.000000e+00   \n",
       "25%                 0.0      1.000000      1.600000e+03       9.750000e+02   \n",
       "50%                 0.0      1.000000      2.295000e+03       1.600000e+03   \n",
       "75%                 0.0      2.000000      3.300000e+03       2.388000e+03   \n",
       "max                 0.0    889.000000      4.252327e+06       4.252327e+06   \n",
       "\n",
       "         YEAR BUILT    SALE PRICE  \n",
       "count  78597.000000  6.554700e+04  \n",
       "mean    1780.920366  9.961302e+05  \n",
       "std      551.273774  3.331151e+06  \n",
       "min        0.000000  0.000000e+00  \n",
       "25%     1920.000000  2.400000e+05  \n",
       "50%     1940.000000  5.300000e+05  \n",
       "75%     1967.000000  9.245710e+05  \n",
       "max     2017.000000  3.450000e+08  "
      ]
     },
     "execution_count": 19,
     "metadata": {},
     "output_type": "execute_result"
    }
   ],
   "source": [
    "df_new[df_new['COMMERCIAL UNITS']==0].describe()"
   ]
  },
  {
   "cell_type": "markdown",
   "metadata": {},
   "source": [
    "Let us try to understand the columns. Above table shows descriptive statistics for the numeric columns.\n",
    "\n",
    "- There are zipcodes with 0 value\n",
    "- Can block/lot numbers go up to 16322?\n",
    "- Most of the properties have 2 unit and maximum of 1844 units? The latter might mean some company purchased a building. This should be treated as an outlier.\n",
    "- Other columns also have outliers which needs further investigation.\n",
    "- Year column has a year with 0\n",
    "- Most sales prices less than 10000 can be treated as gift or transfer fees."
   ]
  },
  {
   "cell_type": "markdown",
   "metadata": {},
   "source": [
    "# Menghitung atau mengukur Sentral Tendesi dari satu kolom"
   ]
  },
  {
   "cell_type": "markdown",
   "metadata": {},
   "source": [
    "Mean dan Median"
   ]
  },
  {
   "cell_type": "code",
   "execution_count": 47,
   "metadata": {},
   "outputs": [
    {
     "name": "stdout",
     "output_type": "stream",
     "text": [
      "Mean Borough=  3.0002751558219383\n"
     ]
    }
   ],
   "source": [
    "print(\"Mean Borough= \", df_new['BOROUGH'].mean())\n"
   ]
  },
  {
   "cell_type": "code",
   "execution_count": 48,
   "metadata": {},
   "outputs": [
    {
     "name": "stdout",
     "output_type": "stream",
     "text": [
      "Median Borough =  3.0\n"
     ]
    }
   ],
   "source": [
    "print(\"Median Borough = \",df_new['BOROUGH'].median())"
   ]
  },
  {
   "cell_type": "markdown",
   "metadata": {},
   "source": [
    "Analisis"
   ]
  },
  {
   "cell_type": "markdown",
   "metadata": {},
   "source": [
    "Setelah menghitung sentral tendensi mean dari kolom borough, terlihat bahwa nilai mean dan median memiliki nilai yang hampir sama bahakan dapat dikatakan sama apabila menggunakan prinsip pembulatan 2 angka dibelakang koma. Hal tersebut merepresentasikan bahwa grafik yang terbuat harus memiliki bentuk yang cukup baik. "
   ]
  },
  {
   "cell_type": "markdown",
   "metadata": {},
   "source": [
    "Modus"
   ]
  },
  {
   "cell_type": "code",
   "execution_count": 49,
   "metadata": {},
   "outputs": [
    {
     "name": "stdout",
     "output_type": "stream",
     "text": [
      "Modus BOROUGH =  4\n"
     ]
    }
   ],
   "source": [
    "cols = ['BOROUGH']\n",
    "for col in cols:\n",
    "    print(\"Modus \"+col+\" = \",df_new[col].mode()[0])"
   ]
  },
  {
   "cell_type": "markdown",
   "metadata": {},
   "source": [
    "# Measure of Spread\n",
    "\n",
    "\n",
    "#### Range"
   ]
  },
  {
   "cell_type": "code",
   "execution_count": 50,
   "metadata": {},
   "outputs": [
    {
     "name": "stdout",
     "output_type": "stream",
     "text": [
      "Range Borough  4\n"
     ]
    }
   ],
   "source": [
    "print('Range Borough ', (df_new['BOROUGH'].max() - df_new['BOROUGH'].min()))"
   ]
  },
  {
   "cell_type": "markdown",
   "metadata": {},
   "source": [
    "### Variance"
   ]
  },
  {
   "cell_type": "code",
   "execution_count": 52,
   "metadata": {},
   "outputs": [
    {
     "name": "stdout",
     "output_type": "stream",
     "text": [
      "Sampel Variance dari Borough =  1.6600348575341706\n"
     ]
    }
   ],
   "source": [
    "print('Sampel Variance dari Borough = ', df_new['BOROUGH'].var(ddof=1))"
   ]
  },
  {
   "cell_type": "markdown",
   "metadata": {},
   "source": [
    "## Standar Deviasi"
   ]
  },
  {
   "cell_type": "code",
   "execution_count": 53,
   "metadata": {},
   "outputs": [
    {
     "name": "stdout",
     "output_type": "stream",
     "text": [
      "Sampel Standard Deviation dari Borough =  1.2884233999482355\n"
     ]
    }
   ],
   "source": [
    "print('Sampel Standard Deviation dari Borough = ', df_new['BOROUGH'].var(ddof=1)**0.5)"
   ]
  },
  {
   "cell_type": "markdown",
   "metadata": {},
   "source": [
    "# Probability Distribution"
   ]
  },
  {
   "cell_type": "markdown",
   "metadata": {},
   "source": [
    "### Normal Distribituon"
   ]
  },
  {
   "cell_type": "code",
   "execution_count": 55,
   "metadata": {},
   "outputs": [
    {
     "data": {
      "text/plain": [
       "Text(0, 0.5, 'Frekuensi')"
      ]
     },
     "execution_count": 55,
     "metadata": {},
     "output_type": "execute_result"
    },
    {
     "data": {
      "image/png": "[encoded data removed]",
      "text/plain": [
       "<Figure size 1368x648 with 1 Axes>"
      ]
     },
     "metadata": {
      "needs_background": "light"
     },
     "output_type": "display_data"
    }
   ],
   "source": [
    "df_total_units = df_new['BOROUGH']\n",
    "fig = plt.figure(figsize=(19,9))\n",
    "ax = fig.add_subplot(1,1,1)\n",
    "count, bin_edge_gross_square_feet = np.histogram(df_total_units,bins=30)\n",
    "sns.histplot(df_total_units,kde=True, ax=ax)\n",
    "ax.set_xticks(bin_edge_gross_square_feet)\n",
    "ax.tick_params(axis='x', labelrotation=90)\n",
    "ax.set_ylabel('Frekuensi', fontsize=14)"
   ]
  },
  {
   "cell_type": "markdown",
   "metadata": {},
   "source": [
    "#### --- Insight-\n",
    "\n",
    "Terlihat bahawa grafik yang ada terlihat seperti anomali, namun yang sebenarnya terjadi adalah grafik yang terjadi sudah normal terbentuk seperti itu karena data yang ada pada kolom borough hanya menunjukan angka pasti seperti 1,2,3,4,5 tidak memiliki nilai apapun bahka hanya 1 angka dibelakang koma."
   ]
  },
  {
   "cell_type": "markdown",
   "metadata": {},
   "source": [
    "## Menghitung Confidence Intervals"
   ]
  },
  {
   "cell_type": "markdown",
   "metadata": {},
   "source": [
    "Menghitung rata-rata populasi yang ada."
   ]
  },
  {
   "cell_type": "code",
   "execution_count": 57,
   "metadata": {},
   "outputs": [],
   "source": [
    "df_totalunits = df_new[['TOTAL UNITS']].dropna()"
   ]
  },
  {
   "cell_type": "code",
   "execution_count": 64,
   "metadata": {},
   "outputs": [
    {
     "name": "stdout",
     "output_type": "stream",
     "text": [
      "Rata-rata jumlah rumah yang terjual pada sekali penjualan di NYC adalah berkisar 2.132 sampai dengan 2.260\n"
     ]
    }
   ],
   "source": [
    "rata_rata = df_totalunits.mean()\n",
    "simpangan_baku = df_totalunits.std()\n",
    "se = simpangan_baku/np.sqrt(len(df_totalunits))\n",
    "z = 1.0\n",
    "\n",
    "batas_bawah = rata_rata - z * se\n",
    "batas_atas = rata_rata + z * se\n",
    "print(\"Rata-rata jumlah rumah yang terjual pada sekali penjualan di NYC adalah berkisar %.3f sampai dengan %.3f\" % (batas_bawah, batas_atas))"
   ]
  },
  {
   "cell_type": "markdown",
   "metadata": {},
   "source": [
    "### Hipotesis\n",
    "--- Apakah rata-rata jumlah unit terjual ketika satu kali transaksi sama pada setiap daerah yang berada di NYC? ---"
   ]
  },
  {
   "cell_type": "code",
   "execution_count": 65,
   "metadata": {},
   "outputs": [
    {
     "name": "stdout",
     "output_type": "stream",
     "text": [
      "Uji Hipotesis \n",
      "stat = 16.741, p = 0.000\n",
      "Hasil Kesimpulan:\n",
      "Tidak Sama\n"
     ]
    }
   ],
   "source": [
    "print(\"Uji Hipotesis \")\n",
    "data1 = df_new[df_new['BOROUGH'] == 1][['TOTAL UNITS']].dropna()\n",
    "data2 = df_new[df_new['BOROUGH'] == 2][['TOTAL UNITS']].dropna()\n",
    "data3 = df_new[df_new['BOROUGH'] == 3][['TOTAL UNITS']].dropna()\n",
    "data4 = df_new[df_new['BOROUGH'] == 4][['TOTAL UNITS']].dropna()\n",
    "data5 = df_new[df_new['BOROUGH'] == 5][['TOTAL UNITS']].dropna()\n",
    "stat, p = f_oneway(data1, data2, data3, data4, data5)\n",
    "print('stat = %.3f, p = %.3f' % (stat, p))\n",
    "print('Hasil Kesimpulan:')\n",
    "if p > 0.05:\n",
    "    print('Sama')\n",
    "else:\n",
    "    print('Tidak Sama')"
   ]
  }
 ],
 "metadata": {
  "kernelspec": {
   "display_name": "Python 3",
   "language": "python",
   "name": "python3"
  },
  "language_info": {
   "codemirror_mode": {
    "name": "ipython",
    "version": 3
   },
   "file_extension": ".py",
   "mimetype": "text/x-python",
   "name": "python",
   "nbconvert_exporter": "python",
   "pygments_lexer": "ipython3",
   "version": "3.9.7"
  },
  "toc": {
   "base_numbering": 1,
   "nav_menu": {},
   "number_sections": true,
   "sideBar": true,
   "skip_h1_title": false,
   "title_cell": "Table of Contents",
   "title_sidebar": "Contents",
   "toc_cell": false,
   "toc_position": {},
   "toc_section_display": true,
   "toc_window_display": false
  }
 },
 "nbformat": 4,
 "nbformat_minor": 2
}
